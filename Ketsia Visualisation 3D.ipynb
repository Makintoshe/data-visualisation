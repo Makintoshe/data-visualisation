{
 "cells": [
  {
   "cell_type": "markdown",
   "metadata": {},
   "source": [
    "# Visualisation en 2 dimensions de données multi-dimensionnelles\n",
    "\n",
    "Utilisez `matplotlib` et plus particulièrement la fonction `matplotlib.pyplot.draw` pour affichez sur le plan une liste de segments. \n",
    "\n",
    "Chaque segment est défini par, respectivement, la liste des abscisses et la liste des ordonnées de ses deux deux extrémités."
   ]
  },
  {
   "cell_type": "code",
   "execution_count": 3,
   "metadata": {
    "scrolled": true
   },
   "outputs": [
    {
     "name": "stdout",
     "output_type": "stream",
     "text": [
      "Requirement already satisfied: matplotlib in c:\\programdata\\anaconda3\\lib\\site-packages (3.3.2)\n",
      "Requirement already satisfied: python-dateutil>=2.1 in c:\\programdata\\anaconda3\\lib\\site-packages (from matplotlib) (2.8.1)\n",
      "Requirement already satisfied: numpy>=1.15 in c:\\programdata\\anaconda3\\lib\\site-packages (from matplotlib) (1.19.2)\n",
      "Requirement already satisfied: cycler>=0.10 in c:\\programdata\\anaconda3\\lib\\site-packages (from matplotlib) (0.10.0)\n",
      "Requirement already satisfied: pyparsing!=2.0.4,!=2.1.2,!=2.1.6,>=2.0.3 in c:\\programdata\\anaconda3\\lib\\site-packages (from matplotlib) (2.4.7)\n",
      "Requirement already satisfied: certifi>=2020.06.20 in c:\\programdata\\anaconda3\\lib\\site-packages (from matplotlib) (2020.6.20)\n",
      "Requirement already satisfied: kiwisolver>=1.0.1 in c:\\programdata\\anaconda3\\lib\\site-packages (from matplotlib) (1.3.0)\n",
      "Requirement already satisfied: pillow>=6.2.0 in c:\\programdata\\anaconda3\\lib\\site-packages (from matplotlib) (8.0.1)\n",
      "Requirement already satisfied: six>=1.5 in c:\\programdata\\anaconda3\\lib\\site-packages (from python-dateutil>=2.1->matplotlib) (1.15.0)\n"
     ]
    }
   ],
   "source": [
    "!pip install matplotlib\n",
    "import matplotlib.pyplot as plt\n",
    "import numpy as np"
   ]
  },
  {
   "cell_type": "code",
   "execution_count": 2,
   "metadata": {},
   "outputs": [],
   "source": [
    "plt.draw?"
   ]
  },
  {
   "cell_type": "code",
   "execution_count": 14,
   "metadata": {},
   "outputs": [
    {
     "data": {
      "image/png": "[encoded data removed]",
      "text/plain": [
       "<Figure size 432x288 with 1 Axes>"
      ]
     },
     "metadata": {
      "needs_background": "light"
     },
     "output_type": "display_data"
    }
   ],
   "source": [
    "fig1=plt.plot([5,0,1,4.7],[9,4,2,0])\n",
    "fig2=plt.plot([1,4,6,-6],[5,3,-1,0])\n",
    "#\n",
    "plt.draw()"
   ]
  },
  {
   "cell_type": "markdown",
   "metadata": {},
   "source": [
    "Le dispositifs de visualisation les plus courants permettent une visualisation des données en deux dimensions. Lorsque les données sont initialement multi-dimensionnelles, il va s'agir de projeter ces données sur un sous-espace vectoriel de dimension deux.\n",
    "\n",
    "## Rappels d'algèbre linéaire\n",
    "\n",
    "Soient $F$ un espace vectoriel et $E$ un sous-espace vectoriel de $F$. Il est possible de décomposer un vecteur $x \\in F$ comme la somme $x = x_E + x^\\perp$ avec $x_E \\in E$ et $x^\\perp$ tel que $\\forall y \\in E, \\langle x^\\perp,y \\rangle=0$.\n",
    "\n",
    "$x_E$ est la projection orthogonale de $x$ dans le sous-espace vectoriel $E$.\n",
    "\n",
    "Ecrire la fonction qui, recevant en paramètre une liste de vecteurs formant une base du sous-espace vectoriel $E$ et $x$ un vecteur de $F$, renvoie le vecteur $x_E$, le projeté de $x$ sur le sous-espace vectoriel $E$.\n",
    "\n",
    "Remarque, le vecteur $x_E$ est composé de la somme des projections orthogonales de $x$ sur chacun des vecteurs de la base de $E$.\n",
    "\n",
    "Vérifiez notamment, qu'en dimension 3 (axes $\\vec{x}, $\\vec{y} et $\\vec{z}$), le projeté d'un vecteur sur le plan défini par la base $B_1 = \\{(1,0,0), (0,1,0)\\}$ a sa composante composante sur $\\vec{z}$ nulle.\n",
    "\n",
    "Faites les vérifications équivalentes sur les sous-espaces vectoriels définis par les bases suivantes :\n",
    "- $B_2=\\{(1,0,0), (0,0,1)\\}$\n",
    "- $B_3=\\{(0,1,0), (0,0,1)\\}$"
   ]
  },
  {
   "cell_type": "code",
   "execution_count": 15,
   "metadata": {},
   "outputs": [],
   "source": [
    "B2 = ((1,0,0),(0,0,1))#\n",
    "B3 = ((0,1,0),(0,0,1)) #\n",
    "B1 = ((1,0,0),(0,1,0))\n",
    "B=((1,0,0),(0,1,0),(0,0,1)) #base canonnique de R3\n",
    "def foo(Base,x):\n",
    "    xE=[]\n",
    "    n=int(len(x))\n",
    "    for i in range(n):\n",
    "        xE.append(np.dot((np.dot(x[i],Base[i])/(np.dot(Base[i],Base[i]))),Base[i])) #produit scalaire : le projecté\n",
    "    return xE"
   ]
  },
  {
   "cell_type": "code",
   "execution_count": 16,
   "metadata": {},
   "outputs": [],
   "source": [
    "def point2D(a,b):\n",
    "    x_coords, y_coords = zip(a, b)\n",
    "    plt.scatter(x_coords, y_coords, color=[\"r\",\"b\"])\n",
    "    plt.axis([-2, 9, -8, 10])\n",
    "    plt.grid()\n",
    "    plt.show()"
   ]
  },
  {
   "cell_type": "code",
   "execution_count": 17,
   "metadata": {},
   "outputs": [],
   "source": [
    "def vecteur2D(vecteur,origine,txt,**options):\n",
    "    \n",
    "    x0=origine[0]\n",
    "    y0=origine[0]\n",
    "    x=vecteur[0]\n",
    "    y=vecteur[1]\n",
    "    \n",
    "    plt.text(x-1, y-1, txt, fontsize=18, **options)\n",
    "    \n",
    "    return plt.arrow(x0, y0, x, y,head_width=0.2, head_length=0.3, length_includes_head=True, **options)"
   ]
  },
  {
   "cell_type": "code",
   "execution_count": 18,
   "metadata": {},
   "outputs": [
    {
     "name": "stdout",
     "output_type": "stream",
     "text": [
      "En fonction de la base B1 : \n",
      " [array([2., 0., 0.]), array([0., 5., 0.])]\n"
     ]
    }
   ],
   "source": [
    "x=((2,3,1),(3,5,4))\n",
    "res1 = foo(B1,x)\n",
    "print(\"En fonction de la base B1 : \\n\",res1)"
   ]
  },
  {
   "cell_type": "code",
   "execution_count": 19,
   "metadata": {},
   "outputs": [
    {
     "name": "stdout",
     "output_type": "stream",
     "text": [
      "En fonction d'une base B2 :\n",
      " [array([2., 0., 0.]), array([0., 0., 4.])]\n"
     ]
    }
   ],
   "source": [
    "res2 = foo(B2,x)\n",
    "print(\"En fonction d'une base B2 :\\n\",res2)"
   ]
  },
  {
   "cell_type": "code",
   "execution_count": 20,
   "metadata": {},
   "outputs": [
    {
     "data": {
      "image/png": "[encoded data removed]",
      "text/plain": [
       "<Figure size 432x288 with 1 Axes>"
      ]
     },
     "metadata": {
      "needs_background": "light"
     },
     "output_type": "display_data"
    }
   ],
   "source": [
    "vect1=np.array((-1,2))\n",
    "vect2=np.array((1,-4))\n",
    "point2D(vect1,vect2)"
   ]
  },
  {
   "cell_type": "code",
   "execution_count": 21,
   "metadata": {},
   "outputs": [
    {
     "data": {
      "image/png": "[encoded data removed]",
      "text/plain": [
       "<Figure size 432x288 with 1 Axes>"
      ]
     },
     "metadata": {
      "needs_background": "light"
     },
     "output_type": "display_data"
    }
   ],
   "source": [
    "#définition d'un autre vecteur x et de sa projection xE\n",
    "x=np.array([5,9])\n",
    "xE=np.array([5,2])\n",
    "point2D(x,xE)"
   ]
  },
  {
   "cell_type": "code",
   "execution_count": 22,
   "metadata": {},
   "outputs": [
    {
     "data": {
      "image/png": "[encoded data removed]",
      "text/plain": [
       "<Figure size 432x288 with 1 Axes>"
      ]
     },
     "metadata": {
      "needs_background": "light"
     },
     "output_type": "display_data"
    }
   ],
   "source": [
    "vecteur2D(x, [0,0],\"x\", color=\"r\")\n",
    "vecteur2D(xE, [0,0],\"xE\", color=\"b\")\n",
    "plt.plot([x[0], xE[0]], [x[1], xE[1]],\"o:\")\n",
    "plt.axis([0, 10, 0, 10])\n",
    "plt.grid()    \n",
    "plt.show()"
   ]
  },
  {
   "cell_type": "markdown",
   "metadata": {},
   "source": [
    "## Transformations géométriques et opérations matricielles en 3 dimensions\n",
    "\n",
    "Dans cette partie nous allons étudier des transformations algébriques dans $\\mathbb{R}^3$.\n",
    "\n",
    "Définissez l'opération matricielle réalisant la translation d'un point $M = (x,y,z)$ par un vecteur $v_T = (x_T, y_T, z_T)$ et implantez cette opération par une fonction en langage python."
   ]
  },
  {
   "cell_type": "code",
   "execution_count": 23,
   "metadata": {},
   "outputs": [],
   "source": [
    "#On sait qu'il exitse deux type de façon d'eefectuer une translation, dans un repère cartésien, une translation est une addition \n",
    "#alors que dans un repère homogène,une translation est une multiplication, ou encore, \n",
    "\n",
    "#Pour effectuer une translation d'un point M donné en un point M',\n",
    "#il suffirai donc soit de \n",
    "\n",
    "#1) multiplier chaque élément du point (matrice de translation) par un élément du vecteur du vecteur de trasnlation \n",
    "#dasn un repère homogène et, soit \n",
    "\n",
    "#2) d'additionner chaque élément de la matrice de translation avec un élément du vecteur de translation dans un répère cartésien\n",
    "\n",
    "### Repère Homogène\n",
    "\n",
    "def translation3DH(M,vT):\n",
    "    \n",
    "    x=M[0]*vT[0]\n",
    "    y=M[1]*vT[1]\n",
    "    z=M[2]*vT[2]\n",
    "    \n",
    "    return [x,y,z] #retour de la nouvelle position M'"
   ]
  },
  {
   "cell_type": "code",
   "execution_count": 24,
   "metadata": {},
   "outputs": [
    {
     "name": "stdout",
     "output_type": "stream",
     "text": [
      "M= [2, 3, 1]  et, M'= [6, 15, 4]\n"
     ]
    }
   ],
   "source": [
    "M = [2,3,1]\n",
    "vT= [3,5,4]\n",
    "M_prime=translation3DH(M,vT)\n",
    "print(\"M=\",M,\" et, M'=\",M_prime)"
   ]
  },
  {
   "cell_type": "code",
   "execution_count": 25,
   "metadata": {},
   "outputs": [],
   "source": [
    "def translation2D(vecteur,origine,**options):\n",
    "    return plt.arrow(origine[0], origine[1], vecteur[0], vecteur[1], head_width=0.2, head_length=0.3, length_includes_head=True,\n",
    "              **options)"
   ]
  },
  {
   "cell_type": "code",
   "execution_count": 43,
   "metadata": {},
   "outputs": [],
   "source": [
    "#soit vT notre vecteur de translation et T notre matrice de translation\n",
    "def translation3DC_plan(vT,T):\n",
    "    \n",
    "    u= np.array(vT)\n",
    "    v= u\n",
    "    w= u\n",
    "    t1= np.array(T[0])\n",
    "    t2= np.array(T[1])\n",
    "    t3= np.array(T[2])    \n",
    "    \n",
    "    x_coords, y_coords = zip(t1, t2, t3, t1)\n",
    "    plt.plot(x_coords, y_coords, \"c--\", x_coords, y_coords, \"co\")\n",
    "\n",
    "    translation2D(u, t1, color=\"r\", linestyle=\":\")\n",
    "    plt.text(4, 4.2, \"u\", color=\"r\", fontsize=18)\n",
    "    translation2D(v, t2, color=\"r\", linestyle=\":\")\n",
    "    plt.text(3, 2.3, \"v\", color=\"r\", fontsize=18)\n",
    "    translation2D(w, t3, color=\"r\", linestyle=\":\")\n",
    "    plt.text(3.5, 0.4, \"w\", color=\"r\", fontsize=18)\n",
    "\n",
    "    t1b = t1 + u\n",
    "    t2b = t2 + v\n",
    "    t3b = t3 + w\n",
    "\n",
    "    x_coords_b, y_coords_b = zip(t1b, t2b, t3b, t1b)\n",
    "    plt.plot(x_coords_b, y_coords_b, \"b-\", x_coords_b, y_coords_b, \"bo\")\n",
    "\n",
    "\n",
    "    plt.axis([0, 6, 0, 5])\n",
    "    plt.grid()\n",
    "    plt.show()"
   ]
  },
  {
   "cell_type": "code",
   "execution_count": 42,
   "metadata": {},
   "outputs": [
    {
     "data": {
      "image/png": "[encoded data removed]",
      "text/plain": [
       "<Figure size 432x288 with 1 Axes>"
      ]
     },
     "metadata": {
      "needs_background": "light"
     },
     "output_type": "display_data"
    }
   ],
   "source": [
    "translation3DC_plan(([3,1]),([2,0.25],[2.5,3.5],[1,2]))"
   ]
  },
  {
   "cell_type": "markdown",
   "metadata": {},
   "source": [
    "Définissez l'opération matricielle réalisant une homothétie de centre $(0,0,0)$ et de rapport $\\alpha$ et implantez la via une fonction python."
   ]
  },
  {
   "cell_type": "code",
   "execution_count": 48,
   "metadata": {},
   "outputs": [],
   "source": [
    "### tenant compte de la définition de l'homothétie donnée par Wikipedia, retenons que :\n",
    "# Une homothétie est une transformation géométrique par agrandissement ou réduction ; \n",
    "# autrement dit, une reproduction avec changement d'échelle. Elle se caractérise par son centre, \n",
    "#point invariant, et un rapport qui est un nombre réel.\n",
    "\n",
    "def homothetie():\n",
    "    t1=[2,0.25]\n",
    "    t2=[2.5,3.5]\n",
    "    t3=[1,2]\n",
    "    a = 2.5\n",
    "    O = [0,0]\n",
    "    t1c = np.dot(a,t1)\n",
    "    t2c = np.dot(a,t2)\n",
    "    t3c = np.dot(a,t3)\n",
    "\n",
    "    x_coords, y_coords = zip(t1, t2, t3, t1)\n",
    "    plt.plot(x_coords, y_coords, \"c--\", x_coords, y_coords, \"co\")\n",
    "\n",
    "    translation2D(t1,O, color=\"r\", linestyle=\":\")\n",
    "    plt.text(4, 4.2, \"u1\", color=\"r\", fontsize=18)\n",
    "    translation2D(t2, O, color=\"r\", linestyle=\":\")\n",
    "    plt.text(3, 2.3, \"v1\", color=\"r\", fontsize=18)\n",
    "    translation2D(t3, O, color=\"r\", linestyle=\":\")\n",
    "    plt.text(3.5, 0.4, \"w1\", color=\"r\", fontsize=18)\n",
    "\n",
    "    x_coords_c, y_coords_c = zip(t1c, t2c, t3c, t1c)\n",
    "    plt.plot(x_coords_c, y_coords_c, \"b-\", x_coords_c, y_coords_c, \"bo\")\n",
    "\n",
    "    translation2D(np.dot(a,t1), O, color=\"b\", linestyle=\":\")\n",
    "    plt.text(2, 2.2, \"u1\", color=\"b\", fontsize=18)\n",
    "    translation2D(np.dot(a,t2), O, color=\"b\", linestyle=\":\")\n",
    "    plt.text(1, 2, \"v1\", color=\"b\", fontsize=18)\n",
    "    translation2D(np.dot(a,t3), O, color=\"b\", linestyle=\":\")\n",
    "    plt.text(0.5, 1, \"w1\", color=\"b\", fontsize=18)\n",
    "\n",
    "\n",
    "    plt.axis([0, 9, 0, 9])\n",
    "    plt.grid()\n",
    "    plt.show()"
   ]
  },
  {
   "cell_type": "code",
   "execution_count": 50,
   "metadata": {},
   "outputs": [
    {
     "data": {
      "image/png": "[encoded data removed]",
      "text/plain": [
       "<Figure size 432x288 with 1 Axes>"
      ]
     },
     "metadata": {
      "needs_background": "light"
     },
     "output_type": "display_data"
    }
   ],
   "source": [
    "homothetie()"
   ]
  },
  {
   "cell_type": "markdown",
   "metadata": {},
   "source": [
    "Une homothétie de rapport $\\alpha$ et de centre $C=(x_c,y_c,z_c)$ peut être décomposée de la façon suivante.\n",
    "\n",
    "Soit $v_c = ((x_c,y_c,z_c)$. On réalise dans un premier temps une translation de $-v_c$, puis une homothétie de rapport $\\alpha$ et de centre $(0,0,0)$ et enfin un translation de $v_c$.\n",
    "\n",
    "Exprimez de façon matricelle cette transformation géométrique et implantez-la via une fonction python, faisant éventuellement appel aux fonctions définies précédemment."
   ]
  },
  {
   "cell_type": "code",
   "execution_count": null,
   "metadata": {},
   "outputs": [],
   "source": [
    "def homothetie_C():\n",
    "    return translation2D(homothetie(translation2D(m, (-1)*vc,color=\"r\", linestyle=\":\"),a),vc,color=\"r\", linestyle=\":\")"
   ]
  },
  {
   "cell_type": "markdown",
   "metadata": {},
   "source": [
    "On définit la matrice de rotation $R_{\\theta,v_R}$ d'un angle $\\theta$ autour du vecteur unitaire $v_R = (x_R, y_R, z_R)$ de la façon suivante. \n",
    "\n",
    "$$ R_{\\theta,v_R} = \\left(\\begin{array}{ccc}x_R^2.(1-\\cos \\theta) + \\cos \\theta & x_R y_R (1 - \\cos \\theta) - z_R \\sin \\theta & x_R z_R (1 - \\cos \\theta) + y_R \\sin \\theta \\\\ x_R y_R (1 - \\cos \\theta) + z_R \\sin \\theta & y_R^2.(1-\\cos \\theta) + \\cos \\theta & y_R z_R (1 - \\cos \\theta) - x_R \\sin \\theta \\\\ x_R z_R (1 - \\cos \\theta) - y_R \\sin \\theta & y_R z_R (1 - \\cos \\theta) + x_R \\sin \\theta & z_R^2.(1-\\cos \\theta) + \\cos \\theta \\end{array}\\right) $$\n",
    "\n",
    "La transformation d'un point de $\\mathbb{R}^3$ par une rotation de $\\theta$ autour de $v_R$ revient à multiplier à gauche le vecteur représentant le point par $R_{\\theta,v_R}$.\n",
    "\n",
    "Attention, $v_R$ doit être unitaire. Si ce n'est pas le cas, il doit être multiplié par $\\frac{1}{||v_R||}$. Par ailleurs, dans un système orienté normalement, les rotation s'opère dans le sens inverse des aiguilles d'une montre lorsque $v_R$ pointe vers l'observateur.\n",
    "\n",
    "Implantez cette transformation sous la forme d'une fonction python."
   ]
  },
  {
   "cell_type": "code",
   "execution_count": 55,
   "metadata": {},
   "outputs": [
    {
     "name": "stderr",
     "output_type": "stream",
     "text": [
      "<>:3: SyntaxWarning: 'int' object is not callable; perhaps you missed a comma?\n",
      "<>:3: SyntaxWarning: 'int' object is not callable; perhaps you missed a comma?\n",
      "<ipython-input-55-a123a583847f>:3: SyntaxWarning: 'int' object is not callable; perhaps you missed a comma?\n",
      "  return np.array([[v[0]  ** 2 (1 - np.cos(th)) + np.cos (th)  ,\n"
     ]
    }
   ],
   "source": [
    "def transformation (m , v , th):\n",
    "    v =  v * (1/np.sqrt(sum([c2 for  c in v ])))\n",
    "    return np.array([[v[0]  ** 2 (1 - np.cos(th)) + np.cos (th)  , \n",
    "                     v[0] * v[1] * (1 - np.cos(th)) - v[2] * np.sin(th) ,\n",
    "                     v[0] * v[2]*( 1 - np.cos(th)) + v[1] * np.sin(th)\n",
    "                    ],\n",
    "                    [v[0] * v[1] (1 - np.cos(th)) +  v[2] * np.sin (th)  , \n",
    "                     v[1]**2  * (1 - np.cos(th)) + np.cos(th) ,\n",
    "                     v[1] * v[2]* (1 - np.cos(th))  - v[0] * np.sin(th)\n",
    "                    ],\n",
    "                    [v[0]*v[2]* (1 - np.cos(th)) - v[1] * np.sin(th) ,\n",
    "                     v[1] * v[2]* (1 - np.cos(th))  - v[0] * np.sin(th),\n",
    "                     v[2]**2 *(1 - np.cos(th)) + np.cos (th) \n",
    "                     ]\n",
    "                    ])@m"
   ]
  },
  {
   "cell_type": "markdown",
   "metadata": {},
   "source": [
    "Visualisez sur le plan $(\\vec{x},\\vec{y})$ en utilisant les fonctions précédentes :\n",
    "- le cube de défini par les coins $\\{(0,0,0), (1,0,0), (1,1,0), (0,1,0), (0,0,1), (1,0,1), (1,1,1), (0,1,1)\\}$\n",
    "- une translation du cube précédent de $(3,-2,4)$\n",
    "- une homothétie du cube de rapport 3 et de centre (0,0,0)\n",
    "- une homothétie du cube de rapport -2 et de centre (2,1,3)\n",
    "- une rotation du cube de $\\frac{\\pi}{3}$ autour de l'axe défini par le vecteur $(5, 2, 3)$\n",
    "- une combinaison de translation du cube précédent de $(3,-2,4)$, suivie d'une rotation du cube de $\\frac{\\pi}{3}$ autour de l'axe défini par le vecteur $(5, 2, 3)$ et enfin d'une une homothétie du cube de rapport -2 et de centre (2,1,3)."
   ]
  },
  {
   "cell_type": "markdown",
   "metadata": {},
   "source": [
    "### Cube"
   ]
  },
  {
   "cell_type": "code",
   "execution_count": 56,
   "metadata": {},
   "outputs": [
    {
     "data": {
      "image/png": "[encoded data removed]",
      "text/plain": [
       "<Figure size 432x288 with 1 Axes>"
      ]
     },
     "metadata": {
      "needs_background": "light"
     },
     "output_type": "display_data"
    }
   ],
   "source": [
    "plt.plot([0, 0, 1, 1, 0, 0.1, 0.1, 0, 0.1, 1.1, 1.0, 1.1, 1.1, 1.0, 1.1, 0.1],\n",
    "         [0, 1, 1, 0, 0, 0.1, 1.1, 1.0, 1.1, 1.1, 1.0, 1.1, 0.1, 0, 0.1, 0.1],\n",
    "         \"r-\")\n",
    "plt.axis([-0.5, 2.1, -0.5, 1.5])\n",
    "plt.show()"
   ]
  },
  {
   "cell_type": "code",
   "execution_count": null,
   "metadata": {},
   "outputs": [],
   "source": []
  }
 ],
 "metadata": {
  "kernelspec": {
   "display_name": "Python 3",
   "language": "python",
   "name": "python3"
  },
  "language_info": {
   "codemirror_mode": {
    "name": "ipython",
    "version": 3
   },
   "file_extension": ".py",
   "mimetype": "text/x-python",
   "name": "python",
   "nbconvert_exporter": "python",
   "pygments_lexer": "ipython3",
   "version": "3.8.5"
  }
 },
 "nbformat": 4,
 "nbformat_minor": 2
}
